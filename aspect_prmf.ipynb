{
 "cells": [
  {
   "cell_type": "markdown",
   "metadata": {
    "collapsed": false
   },
   "source": [
    "# aspect_prmf Module Examples"
   ]
  },
  {
   "cell_type": "code",
   "execution_count": 50,
   "metadata": {
    "ExecuteTime": {
     "end_time": "2023-04-28T14:48:19.511720Z",
     "start_time": "2023-04-28T14:48:19.510107Z"
    },
    "collapsed": false
   },
   "outputs": [],
   "source": [
    "import xmltodict\n",
    "import requests\n",
    "import pprint as pp\n",
    "\n",
    "# import function from aspect_prmf.py\n",
    "from aspect_prmf import *\n"
   ]
  },
  {
   "cell_type": "markdown",
   "metadata": {
    "collapsed": false
   },
   "source": [
    "##  Aspect parameter library\n",
    "\n",
    "The aspect parameter library is available here: https://aspect.geodynamics.org/doc/parameter_view/parameters.xml\n",
    "The function *import_prm_library* imports the ASPECT parameter library as a python dictionary."
   ]
  },
  {
   "cell_type": "code",
   "execution_count": 51,
   "metadata": {
    "ExecuteTime": {
     "end_time": "2023-04-28T14:55:52.448181Z",
     "start_time": "2023-04-28T14:55:51.093010Z"
    },
    "collapsed": false
   },
   "outputs": [],
   "source": [
    "# first you need to create an empty dictionary to store the library\n",
    "prm_lib = dict({})\n",
    "\n",
    "# import the library into the empty dictionary\n",
    "import_prm_library(prm_lib)"
   ]
  },
  {
   "cell_type": "code",
   "execution_count": null,
   "metadata": {
    "collapsed": false
   },
   "outputs": [],
   "source": [
    "# print entire library using pprint (pretty-print): this is a large dictionary and you might get a memory error (IOPub data rate exceeded)\n",
    "pp.pprint(prm_lib, width=160, sort_dicts=False)"
   ]
  },
  {
   "cell_type": "code",
   "execution_count": null,
   "metadata": {
    "ExecuteTime": {
     "end_time": "2023-04-28T14:59:19.477554Z",
     "start_time": "2023-04-28T14:59:19.474906Z"
    },
    "collapsed": false
   },
   "outputs": [],
   "source": [
    "# print the list of first order parameters\n",
    "for key in prm_lib.keys():\n",
    "    print(key)"
   ]
  },
  {
   "cell_type": "code",
   "execution_count": null,
   "metadata": {
    "ExecuteTime": {
     "end_time": "2023-04-28T15:01:47.998862Z",
     "start_time": "2023-04-28T15:01:47.996439Z"
    },
    "collapsed": false
   },
   "outputs": [],
   "source": [
    "# print specific parameter\n",
    "pp.pprint(prm_lib['Global parameters'], width=160, sort_dicts=False)"
   ]
  },
  {
   "cell_type": "code",
   "execution_count": null,
   "metadata": {
    "ExecuteTime": {
     "end_time": "2023-04-28T15:04:39.156471Z",
     "start_time": "2023-04-28T15:04:39.153969Z"
    },
    "collapsed": false
   },
   "outputs": [],
   "source": [
    "# print the documentation of a specific parameter\n",
    "pp.pprint(prm_lib['Global parameters']['Use years in output instead of seconds']['documentation'], width=160, sort_dicts=False)"
   ]
  },
  {
   "cell_type": "markdown",
   "metadata": {
    "collapsed": false
   },
   "source": [
    "## Import a parameter file\n",
    "The function *load_prmf* reads a parameter file and put the parameters into a nested dictionary. The function uses two other function:\n",
    "- *prmf_to_prmlist* to make a list from the file lines\n",
    "- *prmlist_to_prmdict* to convert the list of lines to a dictionary of parameters\n",
    "\n",
    "**Note:** Comments (starting with #) and blank lines are ignored."
   ]
  },
  {
   "cell_type": "code",
   "execution_count": null,
   "metadata": {
    "ExecuteTime": {
     "end_time": "2023-04-28T16:07:06.323076Z",
     "start_time": "2023-04-28T16:07:06.319389Z"
    },
    "collapsed": false
   },
   "outputs": [],
   "source": [
    "# let's open and print an example parameter file called 'test_f1.prm' and located in the 'assets' directory.\n",
    "with open('assets/test_f1.prm', \"r\") as prm_f:\n",
    "    for line in prm_f:\n",
    "        print(line)"
   ]
  },
  {
   "cell_type": "code",
   "execution_count": null,
   "metadata": {
    "ExecuteTime": {
     "end_time": "2023-04-28T16:20:18.448079Z",
     "start_time": "2023-04-28T16:20:18.435953Z"
    },
    "collapsed": false
   },
   "outputs": [],
   "source": [
    "# now let use 'load_prmf' to open the same file as above (assets/test_f1.prm)\n",
    "test_f1_prm = load_prmf('assets/test_f1.prm')\n",
    "\n",
    "# print the parameter dictionary 'test_f1_prm' using 'pretty-print'\n",
    "pp.pprint(test_f1_prm, width=160, sort_dicts=False)\n"
   ]
  },
  {
   "cell_type": "code",
   "execution_count": null,
   "metadata": {
    "ExecuteTime": {
     "end_time": "2023-04-28T16:26:22.770107Z",
     "start_time": "2023-04-28T16:26:22.765149Z"
    },
    "collapsed": false
   },
   "outputs": [],
   "source": [
    "# we can also print the parameter dictionary using the function: sprint_prmdict\n",
    "sprint_prmdict(test_f1_prm)"
   ]
  },
  {
   "cell_type": "code",
   "execution_count": null,
   "metadata": {
    "ExecuteTime": {
     "end_time": "2023-04-28T16:27:34.191826Z",
     "start_time": "2023-04-28T16:27:34.189623Z"
    },
    "collapsed": false
   },
   "outputs": [],
   "source": [
    "# let's print just the Global parameters\n",
    "sprint_prmdict(test_f1_prm['Global parameters'])"
   ]
  },
  {
   "cell_type": "code",
   "execution_count": null,
   "metadata": {
    "ExecuteTime": {
     "end_time": "2023-04-28T16:35:04.426928Z",
     "start_time": "2023-04-28T16:35:04.422793Z"
    },
    "collapsed": false
   },
   "outputs": [],
   "source": [
    "# let's print the Postprocess parameters\n",
    "sprint_prmdict(test_f1_prm['Postprocess'])"
   ]
  },
  {
   "cell_type": "markdown",
   "metadata": {
    "collapsed": false
   },
   "source": [
    "## Compare parameters\n",
    "There are two functions that can be used to compare either:\n",
    "- parameter dictionaries: *check_prmdict_diff*\n",
    "- parameter files: *check_prmf_diff*"
   ]
  },
  {
   "cell_type": "code",
   "execution_count": 61,
   "metadata": {
    "ExecuteTime": {
     "end_time": "2023-04-28T16:39:19.566036Z",
     "start_time": "2023-04-28T16:39:19.554456Z"
    },
    "collapsed": false
   },
   "outputs": [],
   "source": [
    "# let's load another parameter file called 'test_f2.prm' located in the 'assets' directory\n",
    "test_f2_prm = load_prmf('assets/test_f2.prm')"
   ]
  },
  {
   "cell_type": "code",
   "execution_count": null,
   "metadata": {
    "ExecuteTime": {
     "end_time": "2023-04-28T16:40:58.940974Z",
     "start_time": "2023-04-28T16:40:58.937968Z"
    },
    "collapsed": false
   },
   "outputs": [],
   "source": [
    "# we can compare the two dictionaries 'test_f2_prm' and 'test_f1_prm'\n",
    "check_prmdict_diff(test_f1_prm, test_f2_prm)"
   ]
  },
  {
   "cell_type": "code",
   "execution_count": null,
   "metadata": {
    "ExecuteTime": {
     "end_time": "2023-04-28T16:43:12.733466Z",
     "start_time": "2023-04-28T16:43:12.724788Z"
    },
    "collapsed": false
   },
   "outputs": [],
   "source": [
    "# we can also compare the two parameter files without loading them into dictionaries\n",
    "check_prmf_diff('assets/test_f1.prm', 'assets/test_f2.prm')"
   ]
  },
  {
   "cell_type": "markdown",
   "metadata": {
    "collapsed": false
   },
   "source": [
    "## Check parameters\n",
    "The function *prmname_check* checks a parameter dictionary to make sure all parameter name are correct. The check is done against the parameter library from: https://aspect.geodynamics.org/doc/parameter_view/parameters.xml"
   ]
  },
  {
   "cell_type": "code",
   "execution_count": null,
   "metadata": {
    "ExecuteTime": {
     "end_time": "2023-04-28T16:54:15.594635Z",
     "start_time": "2023-04-28T16:54:14.107003Z"
    },
    "collapsed": false
   },
   "outputs": [],
   "source": [
    "# let's check the dictionary 'test_f1_prm' that we created above by loading the file called 'test_f1.prm'\n",
    "prmname_check(test_f1_prm)"
   ]
  },
  {
   "cell_type": "markdown",
   "metadata": {
    "collapsed": false
   },
   "source": [
    "## Save parameter file\n",
    "The function *write_prmdict* saves a parameter dictionary into a parameter file"
   ]
  },
  {
   "cell_type": "code",
   "execution_count": 65,
   "metadata": {
    "ExecuteTime": {
     "end_time": "2023-04-28T17:04:30.716627Z",
     "start_time": "2023-04-28T17:04:30.713385Z"
    },
    "collapsed": false
   },
   "outputs": [],
   "source": [
    "# let's create a new parameter dictionary called 'test_f3_prm' by making a copy of the parameter dictionary called 'test_f1_prm'\n",
    "test_f3_prm = test_f1_prm.copy()"
   ]
  },
  {
   "cell_type": "code",
   "execution_count": 66,
   "metadata": {
    "ExecuteTime": {
     "end_time": "2023-04-28T17:06:07.936524Z",
     "start_time": "2023-04-28T17:06:07.934856Z"
    },
    "collapsed": false
   },
   "outputs": [],
   "source": [
    "# let's modify 'test_f3_prm' by changing the Global parameter 'End time' from '3e10' to '5e10'\n",
    "test_f3_prm['Global parameters']['End time']['value'] = '5e10'"
   ]
  },
  {
   "cell_type": "code",
   "execution_count": 67,
   "metadata": {
    "ExecuteTime": {
     "end_time": "2023-04-28T17:08:10.890391Z",
     "start_time": "2023-04-28T17:08:10.887682Z"
    },
    "collapsed": false
   },
   "outputs": [],
   "source": [
    "# let's save the dictionary 'test_f3_prm' into a file called 'test_f3.prm'\n",
    "write_prmdict(test_f3_prm,'assets/test_f3.prm')"
   ]
  }
 ],
 "metadata": {
  "kernelspec": {
   "display_name": "gems",
   "language": "python",
   "name": "python3"
  },
  "language_info": {
   "codemirror_mode": {
    "name": "ipython",
    "version": 3
   },
   "file_extension": ".py",
   "mimetype": "text/x-python",
   "name": "python",
   "nbconvert_exporter": "python",
   "pygments_lexer": "ipython3",
   "version": "3.9.21"
  }
 },
 "nbformat": 4,
 "nbformat_minor": 0
}
